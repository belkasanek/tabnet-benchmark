{
 "cells": [
  {
   "cell_type": "code",
   "execution_count": 1,
   "metadata": {},
   "outputs": [],
   "source": [
    "import pandas as pd\n",
    "import numpy as np"
   ]
  },
  {
   "cell_type": "code",
   "execution_count": 2,
   "metadata": {},
   "outputs": [],
   "source": [
    "# l = [f'./solutions/tabnet_pretr_5_8_16_5_f_{i}.csv' for i in range(5)]\n",
    "l = [f'./solutions/tabnet_pretr_5_8_15_1_f_{i}_1.csv' for i in range(5)]"
   ]
  },
  {
   "cell_type": "code",
   "execution_count": 3,
   "metadata": {},
   "outputs": [],
   "source": [
    "df = pd.read_csv(l[0])\n",
    "df['target'] = df['target'] / df['target'].max()\n",
    "\n",
    "for file_name in l[1:]:\n",
    "    temp = pd.read_csv(file_name)\n",
    "    temp['target'] = temp['target'] / temp['target'].max()\n",
    "    \n",
    "    df['target'] = df['target'] + temp['target']\n",
    "    \n",
    "df['target'] = df['target'] / len(l)"
   ]
  },
  {
   "cell_type": "code",
   "execution_count": 4,
   "metadata": {},
   "outputs": [],
   "source": [
    "# df.to_csv('solutions/tabnet_stack_5_8_16_8.csv', index=False)\n",
    "df.to_csv('solutions/tabnet_stack_5_8_15_1.csv', index=False)"
   ]
  }
 ],
 "metadata": {
  "kernelspec": {
   "display_name": "Python 3",
   "language": "python",
   "name": "python3"
  },
  "language_info": {
   "codemirror_mode": {
    "name": "ipython",
    "version": 3
   },
   "file_extension": ".py",
   "mimetype": "text/x-python",
   "name": "python",
   "nbconvert_exporter": "python",
   "pygments_lexer": "ipython3",
   "version": "3.8.5"
  }
 },
 "nbformat": 4,
 "nbformat_minor": 4
}
