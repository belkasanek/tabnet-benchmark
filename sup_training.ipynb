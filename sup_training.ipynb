{
 "cells": [
  {
   "cell_type": "code",
   "execution_count": 1,
   "metadata": {},
   "outputs": [],
   "source": [
    "import gc\n",
    "\n",
    "import numpy as np\n",
    "import pandas as pd\n",
    "import tensorflow as tf\n",
    "import matplotlib.pyplot as plt\n",
    "from sklearn.model_selection import train_test_split\n",
    "\n",
    "import tabnet\n",
    "\n",
    "%matplotlib inline"
   ]
  },
  {
   "cell_type": "code",
   "execution_count": 2,
   "metadata": {},
   "outputs": [],
   "source": [
    "df = pd.read_csv('data/processed_train.csv')"
   ]
  },
  {
   "cell_type": "code",
   "execution_count": 3,
   "metadata": {},
   "outputs": [],
   "source": [
    "CATEGORICAL_COLUMNS = [col for col in df.columns if col.endswith('bin') or col.endswith('cat')]\n",
    "NUMERIC_COLUMNS = [col for col in df.columns if  not col.endswith('bin') and not col.endswith('cat')]\n",
    "NUMERIC_COLUMNS.remove('id')\n",
    "NUMERIC_COLUMNS.remove('target')"
   ]
  },
  {
   "cell_type": "code",
   "execution_count": 4,
   "metadata": {},
   "outputs": [],
   "source": [
    "def cast_save_memmory(df):\n",
    "    df.loc[:, NUMERIC_COLUMNS] = df.loc[:, NUMERIC_COLUMNS].astype(np.float32)\n",
    "    df.loc[:, CATEGORICAL_COLUMNS] = df.loc[:, CATEGORICAL_COLUMNS].astype(np.int32)\n",
    "    df.loc[:, 'target'] = df.loc[:, 'target'].astype(np.int32)"
   ]
  },
  {
   "cell_type": "code",
   "execution_count": 5,
   "metadata": {},
   "outputs": [],
   "source": [
    "cast_save_memmory(df)"
   ]
  },
  {
   "cell_type": "code",
   "execution_count": 6,
   "metadata": {},
   "outputs": [],
   "source": [
    "X_train, X_valid, y_train, y_valid = train_test_split(df[NUMERIC_COLUMNS + CATEGORICAL_COLUMNS], \n",
    "                                                      df['target'], train_size=0.8, random_state=42)"
   ]
  },
  {
   "cell_type": "code",
   "execution_count": 7,
   "metadata": {},
   "outputs": [
    {
     "data": {
      "text/plain": [
       "44"
      ]
     },
     "execution_count": 7,
     "metadata": {},
     "output_type": "execute_result"
    }
   ],
   "source": [
    "del df\n",
    "gc.collect()"
   ]
  },
  {
   "cell_type": "code",
   "execution_count": 8,
   "metadata": {},
   "outputs": [],
   "source": [
    "def create_dataset(X, y, shuffle=True, batch_size=10000):\n",
    "    ds = tf.data.Dataset.from_tensor_slices(({col: X[col] for col in NUMERIC_COLUMNS + CATEGORICAL_COLUMNS},\n",
    "                                             y)).cache()\n",
    "    if shuffle:\n",
    "        ds = ds.shuffle(buffer_size=len(X))\n",
    "        \n",
    "    ds = ds.batch(batch_size, drop_remainder=True).prefetch(tf.data.experimental.AUTOTUNE)\n",
    "    return ds"
   ]
  },
  {
   "cell_type": "code",
   "execution_count": 9,
   "metadata": {
    "scrolled": false
   },
   "outputs": [],
   "source": [
    "ds = create_dataset(X_train, y_train)\n",
    "ds_valid = create_dataset(X_valid, y_valid, shuffle=False)"
   ]
  },
  {
   "cell_type": "code",
   "execution_count": 10,
   "metadata": {},
   "outputs": [],
   "source": [
    "def get_feature(x, dimension=1):\n",
    "    if x.dtype == np.float32:\n",
    "        return tf.feature_column.numeric_column(x.name)\n",
    "    else:\n",
    "        return tf.feature_column.embedding_column(\n",
    "        tf.feature_column.categorical_column_with_identity(x.name, num_buckets=x.max() + 1, default_value=0),\n",
    "        dimension=dimension)\n",
    "\n",
    "columns = [get_feature(f) for k, f in X_train[NUMERIC_COLUMNS + CATEGORICAL_COLUMNS].iteritems()]\n",
    "feature_column = tf.keras.layers.DenseFeatures(columns, trainable=True)"
   ]
  },
  {
   "cell_type": "code",
   "execution_count": 11,
   "metadata": {
    "scrolled": false
   },
   "outputs": [
    {
     "name": "stdout",
     "output_type": "stream",
     "text": [
      "Epoch 1/2\n",
      "WARNING:tensorflow:Gradients do not exist for variables ['tab_net_classifier/tab_net_encoder/tab_net_step_3/attentive_transformer_3/dense_24/kernel:0', 'tab_net_classifier/tab_net_encoder/tab_net_step_3/attentive_transformer_3/batch_normalization_24/gamma:0', 'tab_net_classifier/tab_net_encoder/tab_net_step_3/attentive_transformer_3/batch_normalization_24/beta:0'] when minimizing the loss.\n",
      "WARNING:tensorflow:Gradients do not exist for variables ['tab_net_classifier/tab_net_encoder/tab_net_step_3/attentive_transformer_3/dense_24/kernel:0', 'tab_net_classifier/tab_net_encoder/tab_net_step_3/attentive_transformer_3/batch_normalization_24/gamma:0', 'tab_net_classifier/tab_net_encoder/tab_net_step_3/attentive_transformer_3/batch_normalization_24/beta:0'] when minimizing the loss.\n",
      "47/47 [==============================] - 43s 455ms/step - loss: 0.2274 - auc: 0.5023 - val_loss: 0.1621 - val_auc: 0.5640\n",
      "Epoch 2/2\n",
      "47/47 [==============================] - 18s 363ms/step - loss: 0.1553 - auc: 0.5617 - val_loss: 0.1630 - val_auc: 0.5659\n"
     ]
    }
   ],
   "source": [
    "model = tabnet.TabNetClassifier(outputs=1, n_steps=3, n_features=40, \n",
    "                         feature_column=feature_column, virtual_batch_size=250)\n",
    "model.compile(tf.keras.optimizers.Adam(learning_rate=0.025), \n",
    "              tf.keras.losses.binary_crossentropy, \n",
    "              tf.keras.metrics.AUC())\n",
    "history = model.fit(ds, validation_data=ds_valid, epochs=2, \n",
    "                    callbacks=[tf.keras.callbacks.EarlyStopping(monitor='val_auc', mode='max', patience=4)])"
   ]
  },
  {
   "cell_type": "code",
   "execution_count": 12,
   "metadata": {},
   "outputs": [
    {
     "data": {
      "text/plain": [
       "214"
      ]
     },
     "execution_count": 12,
     "metadata": {},
     "output_type": "execute_result"
    }
   ],
   "source": [
    "gc.collect()"
   ]
  },
  {
   "cell_type": "code",
   "execution_count": 15,
   "metadata": {},
   "outputs": [
    {
     "data": {
      "image/png": "[encoded data removed]",
      "text/plain": [
       "<Figure size 432x288 with 1 Axes>"
      ]
     },
     "metadata": {
      "needs_background": "light"
     },
     "output_type": "display_data"
    }
   ],
   "source": [
    "arr = history.history['auc']\n",
    "val_arr = history.history['val_auc']\n",
    "\n",
    "plt.plot(np.arange(len(arr)), arr)\n",
    "plt.plot(np.arange(len(arr)), val_arr)\n",
    "plt.ylabel('ROC AUC')\n",
    "plt.xlabel('Epoch');"
   ]
  },
  {
   "cell_type": "code",
   "execution_count": 16,
   "metadata": {},
   "outputs": [],
   "source": [
    "df_test = pd.read_csv('data/processed_test.csv')"
   ]
  },
  {
   "cell_type": "code",
   "execution_count": 17,
   "metadata": {},
   "outputs": [],
   "source": [
    "cast_save_memmory(df_test)"
   ]
  },
  {
   "cell_type": "code",
   "execution_count": 18,
   "metadata": {},
   "outputs": [],
   "source": [
    "ds_test = create_dataset(df_test[NUMERIC_COLUMNS + CATEGORICAL_COLUMNS], df_test['target'], \n",
    "                         shuffle=False, batch_size=250)"
   ]
  },
  {
   "cell_type": "code",
   "execution_count": 19,
   "metadata": {},
   "outputs": [],
   "source": [
    "y_pred = model.predict(ds_test)"
   ]
  },
  {
   "cell_type": "code",
   "execution_count": 20,
   "metadata": {},
   "outputs": [],
   "source": [
    "sol = pd.read_csv('solutions/scaled_benchmark_mix_8.csv')"
   ]
  },
  {
   "cell_type": "code",
   "execution_count": 42,
   "metadata": {},
   "outputs": [
    {
     "data": {
      "text/plain": [
       "array([[1.        , 0.68047984],\n",
       "       [0.68047984, 1.        ]])"
      ]
     },
     "execution_count": 42,
     "metadata": {},
     "output_type": "execute_result"
    }
   ],
   "source": [
    "np.corrcoef(sol[:len(y_pred)]['target'], y_pred[:, 0])"
   ]
  },
  {
   "cell_type": "code",
   "execution_count": 30,
   "metadata": {
    "scrolled": true
   },
   "outputs": [
    {
     "data": {
      "text/plain": [
       "0.045418262482942416"
      ]
     },
     "execution_count": 30,
     "metadata": {},
     "output_type": "execute_result"
    }
   ],
   "source": [
    "sol['target'].mean()"
   ]
  },
  {
   "cell_type": "code",
   "execution_count": 46,
   "metadata": {},
   "outputs": [
    {
     "data": {
      "text/plain": [
       "0.026391922"
      ]
     },
     "execution_count": 46,
     "metadata": {},
     "output_type": "execute_result"
    }
   ],
   "source": [
    "y_pred.mean()"
   ]
  },
  {
   "cell_type": "code",
   "execution_count": 47,
   "metadata": {},
   "outputs": [
    {
     "data": {
      "text/plain": [
       "0.049160070717336274"
      ]
     },
     "execution_count": 47,
     "metadata": {},
     "output_type": "execute_result"
    }
   ],
   "source": [
    "((sol['target'] / sol['target'].mean()) * y_pred.mean()).mean()"
   ]
  },
  {
   "cell_type": "code",
   "execution_count": 48,
   "metadata": {},
   "outputs": [],
   "source": [
    "sol['target'] = (sol['target'] / sol['target'].mean()) * y_pred.mean()"
   ]
  },
  {
   "cell_type": "code",
   "execution_count": 49,
   "metadata": {},
   "outputs": [
    {
     "data": {
      "text/plain": [
       "0    0.032519\n",
       "1    0.029514\n",
       "2    0.023717\n",
       "3    0.004006\n",
       "4    0.057045\n",
       "Name: target, dtype: float64"
      ]
     },
     "execution_count": 49,
     "metadata": {},
     "output_type": "execute_result"
    }
   ],
   "source": [
    "sol['target'].head()"
   ]
  },
  {
   "cell_type": "code",
   "execution_count": 52,
   "metadata": {},
   "outputs": [],
   "source": [
    "sol.iloc[:len(y_pred), 1] = y_pred"
   ]
  },
  {
   "cell_type": "code",
   "execution_count": 53,
   "metadata": {},
   "outputs": [
    {
     "data": {
      "text/plain": [
       "0    0.041039\n",
       "1    0.018337\n",
       "2    0.066642\n",
       "3    0.008664\n",
       "4    0.037100\n",
       "Name: target, dtype: float64"
      ]
     },
     "execution_count": 53,
     "metadata": {},
     "output_type": "execute_result"
    }
   ],
   "source": [
    "sol['target'].head()"
   ]
  },
  {
   "cell_type": "code",
   "execution_count": 55,
   "metadata": {},
   "outputs": [],
   "source": [
    "sol.to_csv('solutions/tabnet_3_40_25.csv', index=False)"
   ]
  }
 ],
 "metadata": {
  "kernelspec": {
   "display_name": "Python 3",
   "language": "python",
   "name": "python3"
  },
  "language_info": {
   "codemirror_mode": {
    "name": "ipython",
    "version": 3
   },
   "file_extension": ".py",
   "mimetype": "text/x-python",
   "name": "python",
   "nbconvert_exporter": "python",
   "pygments_lexer": "ipython3",
   "version": "3.8.5"
  }
 },
 "nbformat": 4,
 "nbformat_minor": 4
}
