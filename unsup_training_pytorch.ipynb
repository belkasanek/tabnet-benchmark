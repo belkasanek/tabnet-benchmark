{
 "cells": [
  {
   "cell_type": "code",
   "execution_count": 1,
   "metadata": {},
   "outputs": [],
   "source": [
    "import gc\n",
    "import time\n",
    "\n",
    "import numpy as np\n",
    "import pandas as pd\n",
    "import torch\n",
    "import matplotlib.pyplot as plt\n",
    "from sklearn.model_selection import train_test_split, KFold\n",
    "\n",
    "from pytorch_tabnet.tab_model import TabNetClassifier\n",
    "from pytorch_tabnet.pretraining import TabNetPretrainer\n",
    "import utils\n",
    "\n",
    "%matplotlib inline\n",
    "\n",
    "PRETRAIN_FILE_NAME = './weights/test_pretrain2'"
   ]
  },
  {
   "cell_type": "code",
   "execution_count": 2,
   "metadata": {},
   "outputs": [],
   "source": [
    "n_steps = 5\n",
    "n_d = 8\n",
    "gamma = 1.5\n",
    "emb_dim = 1"
   ]
  },
  {
   "cell_type": "code",
   "execution_count": 3,
   "metadata": {},
   "outputs": [],
   "source": [
    "df = pd.read_csv('data/processed_train.csv')\n",
    "df_test = pd.read_csv('data/processed_test.csv')"
   ]
  },
  {
   "cell_type": "code",
   "execution_count": 4,
   "metadata": {},
   "outputs": [
    {
     "data": {
      "text/plain": [
       "39"
      ]
     },
     "execution_count": 4,
     "metadata": {},
     "output_type": "execute_result"
    }
   ],
   "source": [
    "CALC_COLUMNS = [col for col in df.columns if 'calc' in col]\n",
    "\n",
    "df.drop(CALC_COLUMNS, axis=1, inplace=True)\n",
    "df_test.drop(CALC_COLUMNS, axis=1, inplace=True)\n",
    "len(df.columns)"
   ]
  },
  {
   "cell_type": "code",
   "execution_count": 5,
   "metadata": {},
   "outputs": [],
   "source": [
    "CATEGORICAL_COLUMNS = [col for col in df.columns if col.endswith('bin') or col.endswith('cat')]\n",
    "NUMERIC_COLUMNS = [col for col in df.columns if not col.endswith('bin') and not col.endswith('cat')]\n",
    "\n",
    "# not include low cardinality (<= 3) categorical features\n",
    "# CATEGORICAL_COLUMNS = [col for col in df.columns if col.endswith('cat')]\n",
    "# NUMERIC_COLUMNS = [col for col in df.columns if not col.endswith('cat')]\n",
    "# for col in ['ps_ind_04_cat', 'ps_car_02_cat', 'ps_car_03_cat', 'ps_car_05_cat', \n",
    "#             'ps_car_07_cat', 'ps_car_08_cat', 'ps_car_10_cat']:\n",
    "#     CATEGORICAL_COLUMNS.remove(col)\n",
    "#     NUMERIC_COLUMNS.append(col)\n",
    "\n",
    "NUMERIC_COLUMNS.remove('id')\n",
    "NUMERIC_COLUMNS.remove('target')"
   ]
  },
  {
   "cell_type": "code",
   "execution_count": 6,
   "metadata": {},
   "outputs": [],
   "source": [
    "utils.cast_save_memmory(df, NUMERIC_COLUMNS, CATEGORICAL_COLUMNS)\n",
    "utils.cast_save_memmory(df_test, NUMERIC_COLUMNS, CATEGORICAL_COLUMNS)"
   ]
  },
  {
   "cell_type": "code",
   "execution_count": 7,
   "metadata": {},
   "outputs": [],
   "source": [
    "categorical_dims =  {}\n",
    "for col in CATEGORICAL_COLUMNS:\n",
    "    categorical_dims[col] = df[col].nunique()   "
   ]
  },
  {
   "cell_type": "code",
   "execution_count": 8,
   "metadata": {},
   "outputs": [],
   "source": [
    "df = df.append(df_test)"
   ]
  },
  {
   "cell_type": "code",
   "execution_count": 9,
   "metadata": {},
   "outputs": [],
   "source": [
    "X_train, X_valid, y_train, y_valid = train_test_split(df[NUMERIC_COLUMNS + CATEGORICAL_COLUMNS], \n",
    "                                                      df['target'], train_size=0.8, random_state=42)"
   ]
  },
  {
   "cell_type": "code",
   "execution_count": 10,
   "metadata": {},
   "outputs": [],
   "source": [
    "features = [col for col in X_train.columns] \n",
    "\n",
    "cat_idxs = [i for i, f in enumerate(features) if f in CATEGORICAL_COLUMNS]\n",
    "\n",
    "cat_dims = [categorical_dims[f] for i, f in enumerate(features) if f in CATEGORICAL_COLUMNS]"
   ]
  },
  {
   "cell_type": "code",
   "execution_count": 11,
   "metadata": {},
   "outputs": [
    {
     "data": {
      "text/plain": [
       "64"
      ]
     },
     "execution_count": 11,
     "metadata": {},
     "output_type": "execute_result"
    }
   ],
   "source": [
    "del df, df_test\n",
    "gc.collect()"
   ]
  },
  {
   "cell_type": "code",
   "execution_count": 12,
   "metadata": {},
   "outputs": [
    {
     "name": "stdout",
     "output_type": "stream",
     "text": [
      "Device used : cpu\n",
      "epoch 0  | loss: 143686.95108| val_0_unsup_loss: 0.89031 |  0:01:57s\n",
      "epoch 1  | loss: 4381.54173| val_0_unsup_loss: 0.74494 |  0:03:52s\n",
      "epoch 2  | loss: 6929.40327| val_0_unsup_loss: 0.69443 |  0:05:53s\n",
      "epoch 3  | loss: 3603.35929| val_0_unsup_loss: 0.72328 |  0:08:09s\n",
      "epoch 4  | loss: 4336.16926| val_0_unsup_loss: 0.70544 |  0:10:11s\n",
      "epoch 5  | loss: 5526.44079| val_0_unsup_loss: 0.68559 |  0:12:05s\n",
      "epoch 6  | loss: 7846.75097| val_0_unsup_loss: 0.68399 |  0:14:00s\n",
      "epoch 7  | loss: 7217.98821| val_0_unsup_loss: 0.68703 |  0:15:58s\n",
      "epoch 8  | loss: 16034.90487| val_0_unsup_loss: 0.67113 |  0:17:59s\n",
      "epoch 9  | loss: 7814.87674| val_0_unsup_loss: 0.66897 |  0:19:59s\n",
      "epoch 10 | loss: 5527.1335| val_0_unsup_loss: 0.74376 |  0:21:59s\n",
      "epoch 11 | loss: 12453.43459| val_0_unsup_loss: 0.65955 |  0:24:04s\n",
      "epoch 12 | loss: 13160.35175| val_0_unsup_loss: 0.64806 |  0:26:08s\n",
      "epoch 13 | loss: 11713.42197| val_0_unsup_loss: 0.6556  |  0:28:06s\n",
      "epoch 14 | loss: 19638.21263| val_0_unsup_loss: 0.66192 |  0:30:02s\n",
      "epoch 15 | loss: 13343.68664| val_0_unsup_loss: 0.66775 |  0:31:59s\n",
      "epoch 16 | loss: 12859.2339| val_0_unsup_loss: 0.64538 |  0:34:09s\n",
      "epoch 17 | loss: 9762.86656| val_0_unsup_loss: 0.6628  |  0:36:10s\n",
      "epoch 18 | loss: 15336.95281| val_0_unsup_loss: 0.63465 |  0:38:10s\n",
      "epoch 19 | loss: 19143.237| val_0_unsup_loss: 0.62174 |  0:40:10s\n",
      "epoch 20 | loss: 15073.94729| val_0_unsup_loss: 0.63291 |  0:42:11s\n",
      "epoch 21 | loss: 4624.87295| val_0_unsup_loss: 0.67846 |  0:44:16s\n",
      "epoch 22 | loss: 12846.87545| val_0_unsup_loss: 0.64626 |  0:46:25s\n",
      "epoch 23 | loss: 27977.38019| val_0_unsup_loss: 0.61634 |  0:48:29s\n"
     ]
    },
    {
     "ename": "KeyboardInterrupt",
     "evalue": "",
     "output_type": "error",
     "traceback": [
      "\u001b[0;31m---------------------------------------------------------------------------\u001b[0m",
      "\u001b[0;31mKeyboardInterrupt\u001b[0m                         Traceback (most recent call last)",
      "\u001b[0;32m<ipython-input-12-4dd0fc3f3f7f>\u001b[0m in \u001b[0;36m<module>\u001b[0;34m\u001b[0m\n\u001b[1;32m     11\u001b[0m )\n\u001b[1;32m     12\u001b[0m \u001b[0;34m\u001b[0m\u001b[0m\n\u001b[0;32m---> 13\u001b[0;31m unsupervised_model.fit(\n\u001b[0m\u001b[1;32m     14\u001b[0m     \u001b[0mX_train\u001b[0m\u001b[0;34m=\u001b[0m\u001b[0mX_train\u001b[0m\u001b[0;34m.\u001b[0m\u001b[0mvalues\u001b[0m\u001b[0;34m,\u001b[0m\u001b[0;34m\u001b[0m\u001b[0;34m\u001b[0m\u001b[0m\n\u001b[1;32m     15\u001b[0m     \u001b[0meval_set\u001b[0m\u001b[0;34m=\u001b[0m\u001b[0;34m[\u001b[0m\u001b[0mX_valid\u001b[0m\u001b[0;34m.\u001b[0m\u001b[0mvalues\u001b[0m\u001b[0;34m]\u001b[0m\u001b[0;34m,\u001b[0m\u001b[0;34m\u001b[0m\u001b[0;34m\u001b[0m\u001b[0m\n",
      "\u001b[0;32m~/anaconda3/lib/python3.8/site-packages/pytorch_tabnet/pretraining.py\u001b[0m in \u001b[0;36mfit\u001b[0;34m(self, X_train, eval_set, eval_name, loss_fn, pretraining_ratio, weights, max_epochs, patience, batch_size, virtual_batch_size, num_workers, drop_last, callbacks, pin_memory)\u001b[0m\n\u001b[1;32m    147\u001b[0m             \u001b[0mself\u001b[0m\u001b[0;34m.\u001b[0m\u001b[0m_callback_container\u001b[0m\u001b[0;34m.\u001b[0m\u001b[0mon_epoch_begin\u001b[0m\u001b[0;34m(\u001b[0m\u001b[0mepoch_idx\u001b[0m\u001b[0;34m)\u001b[0m\u001b[0;34m\u001b[0m\u001b[0;34m\u001b[0m\u001b[0m\n\u001b[1;32m    148\u001b[0m \u001b[0;34m\u001b[0m\u001b[0m\n\u001b[0;32m--> 149\u001b[0;31m             \u001b[0mself\u001b[0m\u001b[0;34m.\u001b[0m\u001b[0m_train_epoch\u001b[0m\u001b[0;34m(\u001b[0m\u001b[0mtrain_dataloader\u001b[0m\u001b[0;34m)\u001b[0m\u001b[0;34m\u001b[0m\u001b[0;34m\u001b[0m\u001b[0m\n\u001b[0m\u001b[1;32m    150\u001b[0m \u001b[0;34m\u001b[0m\u001b[0m\n\u001b[1;32m    151\u001b[0m             \u001b[0;31m# Apply predict epoch to all eval sets\u001b[0m\u001b[0;34m\u001b[0m\u001b[0;34m\u001b[0m\u001b[0;34m\u001b[0m\u001b[0m\n",
      "\u001b[0;32m~/anaconda3/lib/python3.8/site-packages/pytorch_tabnet/pretraining.py\u001b[0m in \u001b[0;36m_train_epoch\u001b[0;34m(self, train_loader)\u001b[0m\n\u001b[1;32m    273\u001b[0m             \u001b[0mself\u001b[0m\u001b[0;34m.\u001b[0m\u001b[0m_callback_container\u001b[0m\u001b[0;34m.\u001b[0m\u001b[0mon_batch_begin\u001b[0m\u001b[0;34m(\u001b[0m\u001b[0mbatch_idx\u001b[0m\u001b[0;34m)\u001b[0m\u001b[0;34m\u001b[0m\u001b[0;34m\u001b[0m\u001b[0m\n\u001b[1;32m    274\u001b[0m \u001b[0;34m\u001b[0m\u001b[0m\n\u001b[0;32m--> 275\u001b[0;31m             \u001b[0mbatch_logs\u001b[0m \u001b[0;34m=\u001b[0m \u001b[0mself\u001b[0m\u001b[0;34m.\u001b[0m\u001b[0m_train_batch\u001b[0m\u001b[0;34m(\u001b[0m\u001b[0mX\u001b[0m\u001b[0;34m)\u001b[0m\u001b[0;34m\u001b[0m\u001b[0;34m\u001b[0m\u001b[0m\n\u001b[0m\u001b[1;32m    276\u001b[0m \u001b[0;34m\u001b[0m\u001b[0m\n\u001b[1;32m    277\u001b[0m             \u001b[0mself\u001b[0m\u001b[0;34m.\u001b[0m\u001b[0m_callback_container\u001b[0m\u001b[0;34m.\u001b[0m\u001b[0mon_batch_end\u001b[0m\u001b[0;34m(\u001b[0m\u001b[0mbatch_idx\u001b[0m\u001b[0;34m,\u001b[0m \u001b[0mbatch_logs\u001b[0m\u001b[0;34m)\u001b[0m\u001b[0;34m\u001b[0m\u001b[0;34m\u001b[0m\u001b[0m\n",
      "\u001b[0;32m~/anaconda3/lib/python3.8/site-packages/pytorch_tabnet/pretraining.py\u001b[0m in \u001b[0;36m_train_batch\u001b[0;34m(self, X)\u001b[0m\n\u001b[1;32m    309\u001b[0m \u001b[0;34m\u001b[0m\u001b[0m\n\u001b[1;32m    310\u001b[0m         \u001b[0;31m# Perform backward pass and optimization\u001b[0m\u001b[0;34m\u001b[0m\u001b[0;34m\u001b[0m\u001b[0;34m\u001b[0m\u001b[0m\n\u001b[0;32m--> 311\u001b[0;31m         \u001b[0mloss\u001b[0m\u001b[0;34m.\u001b[0m\u001b[0mbackward\u001b[0m\u001b[0;34m(\u001b[0m\u001b[0;34m)\u001b[0m\u001b[0;34m\u001b[0m\u001b[0;34m\u001b[0m\u001b[0m\n\u001b[0m\u001b[1;32m    312\u001b[0m         \u001b[0;32mif\u001b[0m \u001b[0mself\u001b[0m\u001b[0;34m.\u001b[0m\u001b[0mclip_value\u001b[0m\u001b[0;34m:\u001b[0m\u001b[0;34m\u001b[0m\u001b[0;34m\u001b[0m\u001b[0m\n\u001b[1;32m    313\u001b[0m             \u001b[0mclip_grad_norm_\u001b[0m\u001b[0;34m(\u001b[0m\u001b[0mself\u001b[0m\u001b[0;34m.\u001b[0m\u001b[0mnetwork\u001b[0m\u001b[0;34m.\u001b[0m\u001b[0mparameters\u001b[0m\u001b[0;34m(\u001b[0m\u001b[0;34m)\u001b[0m\u001b[0;34m,\u001b[0m \u001b[0mself\u001b[0m\u001b[0;34m.\u001b[0m\u001b[0mclip_value\u001b[0m\u001b[0;34m)\u001b[0m\u001b[0;34m\u001b[0m\u001b[0;34m\u001b[0m\u001b[0m\n",
      "\u001b[0;32m~/anaconda3/lib/python3.8/site-packages/torch/tensor.py\u001b[0m in \u001b[0;36mbackward\u001b[0;34m(self, gradient, retain_graph, create_graph, inputs)\u001b[0m\n\u001b[1;32m    243\u001b[0m                 \u001b[0mcreate_graph\u001b[0m\u001b[0;34m=\u001b[0m\u001b[0mcreate_graph\u001b[0m\u001b[0;34m,\u001b[0m\u001b[0;34m\u001b[0m\u001b[0;34m\u001b[0m\u001b[0m\n\u001b[1;32m    244\u001b[0m                 inputs=inputs)\n\u001b[0;32m--> 245\u001b[0;31m         \u001b[0mtorch\u001b[0m\u001b[0;34m.\u001b[0m\u001b[0mautograd\u001b[0m\u001b[0;34m.\u001b[0m\u001b[0mbackward\u001b[0m\u001b[0;34m(\u001b[0m\u001b[0mself\u001b[0m\u001b[0;34m,\u001b[0m \u001b[0mgradient\u001b[0m\u001b[0;34m,\u001b[0m \u001b[0mretain_graph\u001b[0m\u001b[0;34m,\u001b[0m \u001b[0mcreate_graph\u001b[0m\u001b[0;34m,\u001b[0m \u001b[0minputs\u001b[0m\u001b[0;34m=\u001b[0m\u001b[0minputs\u001b[0m\u001b[0;34m)\u001b[0m\u001b[0;34m\u001b[0m\u001b[0;34m\u001b[0m\u001b[0m\n\u001b[0m\u001b[1;32m    246\u001b[0m \u001b[0;34m\u001b[0m\u001b[0m\n\u001b[1;32m    247\u001b[0m     \u001b[0;32mdef\u001b[0m \u001b[0mregister_hook\u001b[0m\u001b[0;34m(\u001b[0m\u001b[0mself\u001b[0m\u001b[0;34m,\u001b[0m \u001b[0mhook\u001b[0m\u001b[0;34m)\u001b[0m\u001b[0;34m:\u001b[0m\u001b[0;34m\u001b[0m\u001b[0;34m\u001b[0m\u001b[0m\n",
      "\u001b[0;32m~/anaconda3/lib/python3.8/site-packages/torch/autograd/__init__.py\u001b[0m in \u001b[0;36mbackward\u001b[0;34m(tensors, grad_tensors, retain_graph, create_graph, grad_variables, inputs)\u001b[0m\n\u001b[1;32m    143\u001b[0m         \u001b[0mretain_graph\u001b[0m \u001b[0;34m=\u001b[0m \u001b[0mcreate_graph\u001b[0m\u001b[0;34m\u001b[0m\u001b[0;34m\u001b[0m\u001b[0m\n\u001b[1;32m    144\u001b[0m \u001b[0;34m\u001b[0m\u001b[0m\n\u001b[0;32m--> 145\u001b[0;31m     Variable._execution_engine.run_backward(\n\u001b[0m\u001b[1;32m    146\u001b[0m         \u001b[0mtensors\u001b[0m\u001b[0;34m,\u001b[0m \u001b[0mgrad_tensors_\u001b[0m\u001b[0;34m,\u001b[0m \u001b[0mretain_graph\u001b[0m\u001b[0;34m,\u001b[0m \u001b[0mcreate_graph\u001b[0m\u001b[0;34m,\u001b[0m \u001b[0minputs\u001b[0m\u001b[0;34m,\u001b[0m\u001b[0;34m\u001b[0m\u001b[0;34m\u001b[0m\u001b[0m\n\u001b[1;32m    147\u001b[0m         allow_unreachable=True, accumulate_grad=True)  # allow_unreachable flag\n",
      "\u001b[0;31mKeyboardInterrupt\u001b[0m: "
     ]
    }
   ],
   "source": [
    "unsupervised_model = TabNetPretrainer(n_steps=n_steps,\n",
    "                       n_d=n_d, \n",
    "                       n_a=n_d, \n",
    "                       gamma=gamma,\n",
    "                       cat_idxs=cat_idxs,\n",
    "                       cat_dims=cat_dims,\n",
    "                       cat_emb_dim=emb_dim,\n",
    "                       optimizer_fn=torch.optim.Adam,\n",
    "                       optimizer_params=dict(lr=2.5e-2),\n",
    "                       mask_type='entmax'\n",
    ")\n",
    "\n",
    "unsupervised_model.fit(\n",
    "    X_train=X_train.values,\n",
    "    eval_set=[X_valid.values],\n",
    "    max_epochs=100 , patience=5,\n",
    "    batch_size=5000, virtual_batch_size=250,\n",
    "    num_workers=0,\n",
    "    drop_last=False,\n",
    "    pretraining_ratio=0.33,\n",
    ")"
   ]
  },
  {
   "cell_type": "code",
   "execution_count": 13,
   "metadata": {},
   "outputs": [
    {
     "name": "stdout",
     "output_type": "stream",
     "text": [
      "Successfully saved model at ./weights/test_pretrain2.zip\n"
     ]
    },
    {
     "data": {
      "text/plain": [
       "'./weights/test_pretrain2.zip'"
      ]
     },
     "execution_count": 13,
     "metadata": {},
     "output_type": "execute_result"
    }
   ],
   "source": [
    "unsupervised_model.save_model(PRETRAIN_FILE_NAME)"
   ]
  },
  {
   "cell_type": "code",
   "execution_count": 14,
   "metadata": {},
   "outputs": [],
   "source": [
    "df = pd.read_csv('data/processed_train.csv')\n",
    "df.drop(CALC_COLUMNS, axis=1, inplace=True)\n",
    "utils.cast_save_memmory(df, NUMERIC_COLUMNS, CATEGORICAL_COLUMNS)\n",
    "\n",
    "df_test = pd.read_csv('data/processed_test.csv')\n",
    "df_test.drop(CALC_COLUMNS, axis=1, inplace=True)\n",
    "utils.cast_save_memmory(df_test, NUMERIC_COLUMNS, CATEGORICAL_COLUMNS)"
   ]
  },
  {
   "cell_type": "code",
   "execution_count": 15,
   "metadata": {
    "scrolled": false
   },
   "outputs": [
    {
     "name": "stdout",
     "output_type": "stream",
     "text": [
      "0 fold\n",
      "Device used : cpu\n",
      "Device used : cpu\n",
      "Device used : cpu\n",
      "Loading weights from unsupervised pretraining\n",
      "epoch 0  | loss: 0.682   | train_auc: 0.60434 | valid_auc: 0.60293 |  0:00:49s\n",
      "epoch 1  | loss: 0.67187 | train_auc: 0.62219 | valid_auc: 0.62016 |  0:01:39s\n",
      "epoch 2  | loss: 0.66812 | train_auc: 0.63014 | valid_auc: 0.62689 |  0:02:28s\n",
      "epoch 3  | loss: 0.66523 | train_auc: 0.63761 | valid_auc: 0.62843 |  0:03:18s\n",
      "epoch 4  | loss: 0.66306 | train_auc: 0.64243 | valid_auc: 0.63274 |  0:04:08s\n",
      "epoch 5  | loss: 0.66122 | train_auc: 0.64815 | valid_auc: 0.63179 |  0:04:57s\n",
      "epoch 6  | loss: 0.65993 | train_auc: 0.65058 | valid_auc: 0.63166 |  0:05:47s\n",
      "epoch 7  | loss: 0.65779 | train_auc: 0.65562 | valid_auc: 0.6293  |  0:06:37s\n",
      "epoch 8  | loss: 0.65586 | train_auc: 0.65855 | valid_auc: 0.62768 |  0:07:27s\n",
      "epoch 9  | loss: 0.65382 | train_auc: 0.66038 | valid_auc: 0.62711 |  0:08:17s\n",
      "\n",
      "Early stopping occurred at epoch 9 with best_epoch = 4 and best_valid_auc = 0.63274\n",
      "Best weights from best epoch are automatically used!\n",
      "1 fold\n",
      "Device used : cpu\n",
      "Device used : cpu\n",
      "Device used : cpu\n",
      "Loading weights from unsupervised pretraining\n",
      "epoch 0  | loss: 0.68373 | train_auc: 0.60865 | valid_auc: 0.61081 |  0:00:50s\n",
      "epoch 1  | loss: 0.67277 | train_auc: 0.61565 | valid_auc: 0.61508 |  0:01:39s\n",
      "epoch 2  | loss: 0.67101 | train_auc: 0.62111 | valid_auc: 0.61736 |  0:02:33s\n",
      "epoch 3  | loss: 0.67019 | train_auc: 0.62421 | valid_auc: 0.61739 |  0:03:33s\n",
      "epoch 4  | loss: 0.66928 | train_auc: 0.62595 | valid_auc: 0.61737 |  0:04:32s\n",
      "epoch 5  | loss: 0.66869 | train_auc: 0.62881 | valid_auc: 0.61719 |  0:05:23s\n",
      "epoch 6  | loss: 0.66605 | train_auc: 0.63626 | valid_auc: 0.62258 |  0:06:14s\n",
      "epoch 7  | loss: 0.66408 | train_auc: 0.6396  | valid_auc: 0.62233 |  0:07:05s\n",
      "epoch 8  | loss: 0.6621  | train_auc: 0.64223 | valid_auc: 0.62139 |  0:07:57s\n",
      "epoch 9  | loss: 0.66062 | train_auc: 0.64575 | valid_auc: 0.62238 |  0:08:48s\n",
      "epoch 10 | loss: 0.65981 | train_auc: 0.64727 | valid_auc: 0.62355 |  0:09:42s\n",
      "epoch 11 | loss: 0.65899 | train_auc: 0.65245 | valid_auc: 0.62216 |  0:10:33s\n",
      "epoch 12 | loss: 0.65782 | train_auc: 0.65407 | valid_auc: 0.62458 |  0:11:25s\n",
      "epoch 13 | loss: 0.65702 | train_auc: 0.65355 | valid_auc: 0.62441 |  0:12:18s\n",
      "epoch 14 | loss: 0.65685 | train_auc: 0.65552 | valid_auc: 0.62289 |  0:13:07s\n",
      "epoch 15 | loss: 0.65609 | train_auc: 0.65926 | valid_auc: 0.62163 |  0:13:58s\n",
      "epoch 16 | loss: 0.65454 | train_auc: 0.65989 | valid_auc: 0.62291 |  0:14:47s\n",
      "epoch 17 | loss: 0.65286 | train_auc: 0.66316 | valid_auc: 0.62456 |  0:15:37s\n",
      "\n",
      "Early stopping occurred at epoch 17 with best_epoch = 12 and best_valid_auc = 0.62458\n",
      "Best weights from best epoch are automatically used!\n",
      "2 fold\n",
      "Device used : cpu\n",
      "Device used : cpu\n",
      "Device used : cpu\n",
      "Loading weights from unsupervised pretraining\n",
      "epoch 0  | loss: 0.68112 | train_auc: 0.60551 | valid_auc: 0.60057 |  0:00:51s\n",
      "epoch 1  | loss: 0.67241 | train_auc: 0.61341 | valid_auc: 0.60633 |  0:01:41s\n",
      "epoch 2  | loss: 0.67163 | train_auc: 0.60785 | valid_auc: 0.60065 |  0:02:31s\n",
      "epoch 3  | loss: 0.6725  | train_auc: 0.61279 | valid_auc: 0.60202 |  0:03:22s\n",
      "epoch 4  | loss: 0.67056 | train_auc: 0.62467 | valid_auc: 0.61181 |  0:04:13s\n",
      "epoch 5  | loss: 0.66781 | train_auc: 0.63105 | valid_auc: 0.61589 |  0:05:04s\n",
      "epoch 6  | loss: 0.66627 | train_auc: 0.6347  | valid_auc: 0.62343 |  0:05:54s\n",
      "epoch 7  | loss: 0.66434 | train_auc: 0.63971 | valid_auc: 0.62517 |  0:06:43s\n",
      "epoch 8  | loss: 0.66295 | train_auc: 0.64183 | valid_auc: 0.62843 |  0:07:33s\n",
      "epoch 9  | loss: 0.66309 | train_auc: 0.64308 | valid_auc: 0.62347 |  0:08:23s\n",
      "epoch 10 | loss: 0.66143 | train_auc: 0.644   | valid_auc: 0.62552 |  0:09:13s\n",
      "epoch 11 | loss: 0.66065 | train_auc: 0.64734 | valid_auc: 0.62503 |  0:10:03s\n",
      "epoch 12 | loss: 0.66063 | train_auc: 0.64901 | valid_auc: 0.62818 |  0:10:53s\n",
      "epoch 13 | loss: 0.65901 | train_auc: 0.65187 | valid_auc: 0.62976 |  0:11:42s\n",
      "epoch 14 | loss: 0.65774 | train_auc: 0.65354 | valid_auc: 0.62946 |  0:12:32s\n",
      "epoch 15 | loss: 0.65631 | train_auc: 0.65574 | valid_auc: 0.62881 |  0:13:22s\n",
      "epoch 16 | loss: 0.65567 | train_auc: 0.65806 | valid_auc: 0.62766 |  0:14:12s\n",
      "epoch 17 | loss: 0.6543  | train_auc: 0.66125 | valid_auc: 0.63036 |  0:15:02s\n",
      "epoch 18 | loss: 0.65335 | train_auc: 0.66299 | valid_auc: 0.6277  |  0:15:52s\n",
      "epoch 19 | loss: 0.65247 | train_auc: 0.66531 | valid_auc: 0.62705 |  0:16:42s\n",
      "epoch 20 | loss: 0.65135 | train_auc: 0.66758 | valid_auc: 0.62917 |  0:17:32s\n",
      "epoch 21 | loss: 0.65085 | train_auc: 0.6675  | valid_auc: 0.62552 |  0:18:22s\n",
      "epoch 22 | loss: 0.64996 | train_auc: 0.66786 | valid_auc: 0.62108 |  0:19:12s\n",
      "\n",
      "Early stopping occurred at epoch 22 with best_epoch = 17 and best_valid_auc = 0.63036\n",
      "Best weights from best epoch are automatically used!\n",
      "3 fold\n",
      "Device used : cpu\n",
      "Device used : cpu\n",
      "Device used : cpu\n",
      "Loading weights from unsupervised pretraining\n",
      "epoch 0  | loss: 0.68212 | train_auc: 0.60973 | valid_auc: 0.60651 |  0:00:50s\n",
      "epoch 1  | loss: 0.67209 | train_auc: 0.61708 | valid_auc: 0.61444 |  0:01:39s\n",
      "epoch 2  | loss: 0.6701  | train_auc: 0.62496 | valid_auc: 0.61742 |  0:02:29s\n",
      "epoch 3  | loss: 0.66635 | train_auc: 0.63291 | valid_auc: 0.62682 |  0:03:19s\n",
      "epoch 4  | loss: 0.66411 | train_auc: 0.63836 | valid_auc: 0.62745 |  0:04:09s\n",
      "epoch 5  | loss: 0.6619  | train_auc: 0.64298 | valid_auc: 0.62845 |  0:04:59s\n",
      "epoch 6  | loss: 0.66029 | train_auc: 0.64838 | valid_auc: 0.62769 |  0:05:52s\n",
      "epoch 7  | loss: 0.65848 | train_auc: 0.65294 | valid_auc: 0.6267  |  0:06:50s\n",
      "epoch 8  | loss: 0.65677 | train_auc: 0.6556  | valid_auc: 0.62592 |  0:07:45s\n",
      "epoch 9  | loss: 0.65532 | train_auc: 0.66003 | valid_auc: 0.62737 |  0:08:36s\n",
      "epoch 10 | loss: 0.65418 | train_auc: 0.65857 | valid_auc: 0.62614 |  0:09:27s\n",
      "\n",
      "Early stopping occurred at epoch 10 with best_epoch = 5 and best_valid_auc = 0.62845\n",
      "Best weights from best epoch are automatically used!\n",
      "4 fold\n",
      "Device used : cpu\n",
      "Device used : cpu\n",
      "Device used : cpu\n",
      "Loading weights from unsupervised pretraining\n",
      "epoch 0  | loss: 0.6815  | train_auc: 0.6129  | valid_auc: 0.61148 |  0:00:49s\n",
      "epoch 1  | loss: 0.67094 | train_auc: 0.62445 | valid_auc: 0.62473 |  0:01:39s\n",
      "epoch 2  | loss: 0.66593 | train_auc: 0.634   | valid_auc: 0.62812 |  0:02:29s\n",
      "epoch 3  | loss: 0.66403 | train_auc: 0.63873 | valid_auc: 0.63147 |  0:03:19s\n",
      "epoch 4  | loss: 0.66254 | train_auc: 0.64125 | valid_auc: 0.6342  |  0:04:11s\n",
      "epoch 5  | loss: 0.66111 | train_auc: 0.64623 | valid_auc: 0.63374 |  0:05:01s\n",
      "epoch 6  | loss: 0.65942 | train_auc: 0.65109 | valid_auc: 0.63311 |  0:05:51s\n",
      "epoch 7  | loss: 0.65762 | train_auc: 0.65405 | valid_auc: 0.6329  |  0:06:42s\n",
      "epoch 8  | loss: 0.65664 | train_auc: 0.65472 | valid_auc: 0.63177 |  0:07:32s\n",
      "epoch 9  | loss: 0.65665 | train_auc: 0.64682 | valid_auc: 0.6297  |  0:08:22s\n",
      "\n",
      "Early stopping occurred at epoch 9 with best_epoch = 4 and best_valid_auc = 0.6342\n",
      "Best weights from best epoch are automatically used!\n"
     ]
    }
   ],
   "source": [
    "kf = KFold(n_splits=5, shuffle=True)\n",
    "\n",
    "i = 0\n",
    "for train_index, valid_index in kf.split(df):\n",
    "    print(f'{i} fold')\n",
    "    X_train = df.loc[train_index, NUMERIC_COLUMNS + CATEGORICAL_COLUMNS]\n",
    "    X_valid = df.loc[valid_index, NUMERIC_COLUMNS + CATEGORICAL_COLUMNS]\n",
    "    y_train = df.loc[train_index, 'target']\n",
    "    y_valid = df.loc[valid_index, 'target']\n",
    "    \n",
    "    loaded_pretrain = TabNetPretrainer()\n",
    "    loaded_pretrain.load_model(PRETRAIN_FILE_NAME + '.zip')\n",
    "\n",
    "    clf = TabNetClassifier(n_steps=n_steps,\n",
    "                       n_d=n_d, \n",
    "                       n_a=n_d, \n",
    "                       gamma=gamma,\n",
    "                       cat_idxs=cat_idxs,\n",
    "                       cat_dims=cat_dims,\n",
    "                       cat_emb_dim=emb_dim,\n",
    "                       optimizer_fn=torch.optim.Adam,\n",
    "                       optimizer_params=dict(lr=2e-2),\n",
    "                       mask_type='entmax'\n",
    "                      )\n",
    "\n",
    "    clf.fit(\n",
    "        X_train=X_train.values, y_train=y_train.values,\n",
    "        eval_set=[(X_train.values, y_train.values), (X_valid.values, y_valid.values)],\n",
    "        eval_name=['train', 'valid'],\n",
    "        eval_metric=['auc'],\n",
    "        max_epochs=100 , patience=5,\n",
    "        batch_size=10000, virtual_batch_size=250,\n",
    "        num_workers=0,\n",
    "        weights=1,\n",
    "        drop_last=False,\n",
    "        from_unsupervised=loaded_pretrain\n",
    "    )\n",
    "    \n",
    "    y_pred = clf.predict_proba(df_test[NUMERIC_COLUMNS + CATEGORICAL_COLUMNS].values)\n",
    "    sol = pd.read_csv('solutions/scaled_benchmark_mix_8.csv')\n",
    "    sol.iloc[:, 1] = y_pred[:, 1]\n",
    "    sol.to_csv(f'solutions/tabnet_pretr_{n_steps}_{n_d}_{int(gamma*10)}_{emb_dim}_f_{i}_1.csv', index=False)\n",
    "    i += 1\n",
    "    time.sleep(60*5)"
   ]
  },
  {
   "cell_type": "code",
   "execution_count": 16,
   "metadata": {
    "scrolled": true
   },
   "outputs": [
    {
     "data": {
      "text/plain": [
       "[<matplotlib.lines.Line2D at 0x7f9346480160>]"
      ]
     },
     "execution_count": 16,
     "metadata": {},
     "output_type": "execute_result"
    },
    {
     "data": {
      "image/png": "[encoded data removed]",
      "text/plain": [
       "<Figure size 432x288 with 1 Axes>"
      ]
     },
     "metadata": {
      "needs_background": "light"
     },
     "output_type": "display_data"
    }
   ],
   "source": [
    "# plot losses\n",
    "plt.plot(clf.history['loss'])"
   ]
  },
  {
   "cell_type": "code",
   "execution_count": 17,
   "metadata": {},
   "outputs": [
    {
     "data": {
      "image/png": "[encoded data removed]",
      "text/plain": [
       "<Figure size 432x288 with 1 Axes>"
      ]
     },
     "metadata": {
      "needs_background": "light"
     },
     "output_type": "display_data"
    }
   ],
   "source": [
    "# plot auc\n",
    "plt.plot(clf.history['train_auc'], label='train')\n",
    "plt.plot(clf.history['valid_auc'], label='valid')\n",
    "plt.legend()\n",
    "plt.grid();"
   ]
  },
  {
   "cell_type": "code",
   "execution_count": 18,
   "metadata": {},
   "outputs": [
    {
     "data": {
      "text/html": [
       "<div>\n",
       "<style scoped>\n",
       "    .dataframe tbody tr th:only-of-type {\n",
       "        vertical-align: middle;\n",
       "    }\n",
       "\n",
       "    .dataframe tbody tr th {\n",
       "        vertical-align: top;\n",
       "    }\n",
       "\n",
       "    .dataframe thead th {\n",
       "        text-align: right;\n",
       "    }\n",
       "</style>\n",
       "<table border=\"1\" class=\"dataframe\">\n",
       "  <thead>\n",
       "    <tr style=\"text-align: right;\">\n",
       "      <th></th>\n",
       "      <th>imp</th>\n",
       "      <th>name</th>\n",
       "    </tr>\n",
       "  </thead>\n",
       "  <tbody>\n",
       "    <tr>\n",
       "      <th>29</th>\n",
       "      <td>0.000000e+00</td>\n",
       "      <td>ps_car_04_cat</td>\n",
       "    </tr>\n",
       "    <tr>\n",
       "      <th>4</th>\n",
       "      <td>0.000000e+00</td>\n",
       "      <td>ps_reg_01</td>\n",
       "    </tr>\n",
       "    <tr>\n",
       "      <th>27</th>\n",
       "      <td>0.000000e+00</td>\n",
       "      <td>ps_car_02_cat</td>\n",
       "    </tr>\n",
       "    <tr>\n",
       "      <th>10</th>\n",
       "      <td>0.000000e+00</td>\n",
       "      <td>ps_car_14</td>\n",
       "    </tr>\n",
       "    <tr>\n",
       "      <th>11</th>\n",
       "      <td>0.000000e+00</td>\n",
       "      <td>ps_car_15</td>\n",
       "    </tr>\n",
       "    <tr>\n",
       "      <th>1</th>\n",
       "      <td>4.700390e-08</td>\n",
       "      <td>ps_ind_03</td>\n",
       "    </tr>\n",
       "    <tr>\n",
       "      <th>26</th>\n",
       "      <td>1.698993e-07</td>\n",
       "      <td>ps_car_01_cat</td>\n",
       "    </tr>\n",
       "    <tr>\n",
       "      <th>35</th>\n",
       "      <td>9.807421e-07</td>\n",
       "      <td>ps_car_10_cat</td>\n",
       "    </tr>\n",
       "    <tr>\n",
       "      <th>22</th>\n",
       "      <td>9.047268e-06</td>\n",
       "      <td>ps_ind_13_bin</td>\n",
       "    </tr>\n",
       "    <tr>\n",
       "      <th>0</th>\n",
       "      <td>1.275034e-05</td>\n",
       "      <td>ps_ind_01</td>\n",
       "    </tr>\n",
       "    <tr>\n",
       "      <th>19</th>\n",
       "      <td>1.632439e-05</td>\n",
       "      <td>ps_ind_10_bin</td>\n",
       "    </tr>\n",
       "    <tr>\n",
       "      <th>33</th>\n",
       "      <td>9.927798e-05</td>\n",
       "      <td>ps_car_08_cat</td>\n",
       "    </tr>\n",
       "    <tr>\n",
       "      <th>18</th>\n",
       "      <td>5.211699e-04</td>\n",
       "      <td>ps_ind_09_bin</td>\n",
       "    </tr>\n",
       "    <tr>\n",
       "      <th>13</th>\n",
       "      <td>7.871692e-04</td>\n",
       "      <td>ps_ind_04_cat</td>\n",
       "    </tr>\n",
       "    <tr>\n",
       "      <th>7</th>\n",
       "      <td>3.187531e-03</td>\n",
       "      <td>ps_car_11</td>\n",
       "    </tr>\n",
       "    <tr>\n",
       "      <th>20</th>\n",
       "      <td>3.644974e-03</td>\n",
       "      <td>ps_ind_11_bin</td>\n",
       "    </tr>\n",
       "    <tr>\n",
       "      <th>2</th>\n",
       "      <td>4.053298e-03</td>\n",
       "      <td>ps_ind_14</td>\n",
       "    </tr>\n",
       "    <tr>\n",
       "      <th>15</th>\n",
       "      <td>4.461440e-03</td>\n",
       "      <td>ps_ind_06_bin</td>\n",
       "    </tr>\n",
       "    <tr>\n",
       "      <th>30</th>\n",
       "      <td>6.218639e-03</td>\n",
       "      <td>ps_car_05_cat</td>\n",
       "    </tr>\n",
       "    <tr>\n",
       "      <th>21</th>\n",
       "      <td>7.910944e-03</td>\n",
       "      <td>ps_ind_12_bin</td>\n",
       "    </tr>\n",
       "    <tr>\n",
       "      <th>34</th>\n",
       "      <td>1.078209e-02</td>\n",
       "      <td>ps_car_09_cat</td>\n",
       "    </tr>\n",
       "    <tr>\n",
       "      <th>16</th>\n",
       "      <td>1.156664e-02</td>\n",
       "      <td>ps_ind_07_bin</td>\n",
       "    </tr>\n",
       "    <tr>\n",
       "      <th>12</th>\n",
       "      <td>1.232031e-02</td>\n",
       "      <td>ps_ind_02_cat</td>\n",
       "    </tr>\n",
       "    <tr>\n",
       "      <th>31</th>\n",
       "      <td>1.709411e-02</td>\n",
       "      <td>ps_car_06_cat</td>\n",
       "    </tr>\n",
       "    <tr>\n",
       "      <th>8</th>\n",
       "      <td>2.006531e-02</td>\n",
       "      <td>ps_car_12</td>\n",
       "    </tr>\n",
       "    <tr>\n",
       "      <th>24</th>\n",
       "      <td>2.063284e-02</td>\n",
       "      <td>ps_ind_17_bin</td>\n",
       "    </tr>\n",
       "    <tr>\n",
       "      <th>23</th>\n",
       "      <td>2.853154e-02</td>\n",
       "      <td>ps_ind_16_bin</td>\n",
       "    </tr>\n",
       "    <tr>\n",
       "      <th>17</th>\n",
       "      <td>3.203433e-02</td>\n",
       "      <td>ps_ind_08_bin</td>\n",
       "    </tr>\n",
       "    <tr>\n",
       "      <th>3</th>\n",
       "      <td>3.556887e-02</td>\n",
       "      <td>ps_ind_15</td>\n",
       "    </tr>\n",
       "    <tr>\n",
       "      <th>14</th>\n",
       "      <td>4.275166e-02</td>\n",
       "      <td>ps_ind_05_cat</td>\n",
       "    </tr>\n",
       "    <tr>\n",
       "      <th>28</th>\n",
       "      <td>7.122570e-02</td>\n",
       "      <td>ps_car_03_cat</td>\n",
       "    </tr>\n",
       "    <tr>\n",
       "      <th>25</th>\n",
       "      <td>7.730266e-02</td>\n",
       "      <td>ps_ind_18_bin</td>\n",
       "    </tr>\n",
       "    <tr>\n",
       "      <th>32</th>\n",
       "      <td>8.239743e-02</td>\n",
       "      <td>ps_car_07_cat</td>\n",
       "    </tr>\n",
       "    <tr>\n",
       "      <th>9</th>\n",
       "      <td>1.028922e-01</td>\n",
       "      <td>ps_car_13</td>\n",
       "    </tr>\n",
       "    <tr>\n",
       "      <th>36</th>\n",
       "      <td>1.188554e-01</td>\n",
       "      <td>ps_car_11_cat</td>\n",
       "    </tr>\n",
       "    <tr>\n",
       "      <th>5</th>\n",
       "      <td>1.392650e-01</td>\n",
       "      <td>ps_reg_02</td>\n",
       "    </tr>\n",
       "    <tr>\n",
       "      <th>6</th>\n",
       "      <td>1.457901e-01</td>\n",
       "      <td>ps_reg_03</td>\n",
       "    </tr>\n",
       "  </tbody>\n",
       "</table>\n",
       "</div>"
      ],
      "text/plain": [
       "             imp           name\n",
       "29  0.000000e+00  ps_car_04_cat\n",
       "4   0.000000e+00      ps_reg_01\n",
       "27  0.000000e+00  ps_car_02_cat\n",
       "10  0.000000e+00      ps_car_14\n",
       "11  0.000000e+00      ps_car_15\n",
       "1   4.700390e-08      ps_ind_03\n",
       "26  1.698993e-07  ps_car_01_cat\n",
       "35  9.807421e-07  ps_car_10_cat\n",
       "22  9.047268e-06  ps_ind_13_bin\n",
       "0   1.275034e-05      ps_ind_01\n",
       "19  1.632439e-05  ps_ind_10_bin\n",
       "33  9.927798e-05  ps_car_08_cat\n",
       "18  5.211699e-04  ps_ind_09_bin\n",
       "13  7.871692e-04  ps_ind_04_cat\n",
       "7   3.187531e-03      ps_car_11\n",
       "20  3.644974e-03  ps_ind_11_bin\n",
       "2   4.053298e-03      ps_ind_14\n",
       "15  4.461440e-03  ps_ind_06_bin\n",
       "30  6.218639e-03  ps_car_05_cat\n",
       "21  7.910944e-03  ps_ind_12_bin\n",
       "34  1.078209e-02  ps_car_09_cat\n",
       "16  1.156664e-02  ps_ind_07_bin\n",
       "12  1.232031e-02  ps_ind_02_cat\n",
       "31  1.709411e-02  ps_car_06_cat\n",
       "8   2.006531e-02      ps_car_12\n",
       "24  2.063284e-02  ps_ind_17_bin\n",
       "23  2.853154e-02  ps_ind_16_bin\n",
       "17  3.203433e-02  ps_ind_08_bin\n",
       "3   3.556887e-02      ps_ind_15\n",
       "14  4.275166e-02  ps_ind_05_cat\n",
       "28  7.122570e-02  ps_car_03_cat\n",
       "25  7.730266e-02  ps_ind_18_bin\n",
       "32  8.239743e-02  ps_car_07_cat\n",
       "9   1.028922e-01      ps_car_13\n",
       "36  1.188554e-01  ps_car_11_cat\n",
       "5   1.392650e-01      ps_reg_02\n",
       "6   1.457901e-01      ps_reg_03"
      ]
     },
     "execution_count": 18,
     "metadata": {},
     "output_type": "execute_result"
    }
   ],
   "source": [
    "imp = pd.DataFrame({'imp': clf.feature_importances_, 'name': features}).sort_values(by='imp')\n",
    "imp.to_csv(f'data/importance_{n_steps}_{n_d}_{int(gamma*10)}_{emb_dim}', index=False)\n",
    "imp"
   ]
  }
 ],
 "metadata": {
  "kernelspec": {
   "display_name": "Python 3",
   "language": "python",
   "name": "python3"
  },
  "language_info": {
   "codemirror_mode": {
    "name": "ipython",
    "version": 3
   },
   "file_extension": ".py",
   "mimetype": "text/x-python",
   "name": "python",
   "nbconvert_exporter": "python",
   "pygments_lexer": "ipython3",
   "version": "3.8.5"
  }
 },
 "nbformat": 4,
 "nbformat_minor": 4
}
